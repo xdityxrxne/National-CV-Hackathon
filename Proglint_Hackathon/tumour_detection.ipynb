{
  "nbformat": 4,
  "nbformat_minor": 0,
  "metadata": {
    "colab": {
      "provenance": [],
      "gpuType": "T4"
    },
    "kernelspec": {
      "name": "python3",
      "display_name": "Python 3"
    },
    "language_info": {
      "name": "python"
    },
    "accelerator": "GPU"
  },
  "cells": [
    {
      "cell_type": "code",
      "execution_count": null,
      "metadata": {
        "colab": {
          "base_uri": "https://localhost:8080/"
        },
        "id": "3zq1qRCNhmo-",
        "outputId": "cf1150a5-ccb0-4292-c3dd-40c13d38aad6"
      },
      "outputs": [
        {
          "output_type": "stream",
          "name": "stdout",
          "text": [
            "Mounted at /content/drive\n"
          ]
        }
      ],
      "source": [
        "from google.colab import drive\n",
        "drive.mount('/content/drive')\n"
      ]
    },
    {
      "cell_type": "code",
      "source": [
        "import tensorflow\n",
        "print(tensorflow.__version__)"
      ],
      "metadata": {
        "colab": {
          "base_uri": "https://localhost:8080/"
        },
        "id": "2BguEjf0hzIz",
        "outputId": "f9a5c2bf-488a-48a3-ff92-358474801a35"
      },
      "execution_count": null,
      "outputs": [
        {
          "output_type": "stream",
          "name": "stdout",
          "text": [
            "2.13.0\n"
          ]
        }
      ]
    },
    {
      "cell_type": "code",
      "source": [
        "import tensorflow as tf\n",
        "from tensorflow.keras.preprocessing.image import ImageDataGenerator\n",
        "from tensorflow.keras.models import Sequential\n",
        "from tensorflow.keras.layers import Conv2D, MaxPooling2D, Flatten, Dense, Dropout\n",
        "from tensorflow.keras.optimizers import Adam\n",
        "\n",
        "# Define the paths to your training and testing datasets\n",
        "train_data_dir = '/content/drive/MyDrive/PROGLINT/Training'\n",
        "test_data_dir = '/content/drive/MyDrive/PROGLINT/Testing'\n",
        "\n",
        "# Define image dimensions and batch size\n",
        "img_width, img_height = 150, 150\n",
        "batch_size = 32\n",
        "\n",
        "# Create data generators for training and testing\n",
        "train_datagen = ImageDataGenerator(\n",
        "    rescale=1.0/255.0,  # Rescale pixel values to [0, 1]\n",
        "    shear_range=0.2,\n",
        "    zoom_range=0.2,\n",
        "    horizontal_flip=True)\n",
        "\n",
        "test_datagen = ImageDataGenerator(rescale=1.0/255.0)\n",
        "\n",
        "train_generator = train_datagen.flow_from_directory(\n",
        "    train_data_dir,\n",
        "    target_size=(img_width, img_height),\n",
        "    batch_size=batch_size,\n",
        "    class_mode='categorical')\n",
        "\n",
        "test_generator = test_datagen.flow_from_directory(\n",
        "    test_data_dir,\n",
        "    target_size=(img_width, img_height),\n",
        "    batch_size=batch_size,\n",
        "    class_mode='categorical')\n",
        "\n",
        "# Create a CNN model\n",
        "model = Sequential()\n",
        "\n",
        "model.add(Conv2D(32, (3, 3), input_shape=(img_width, img_height, 3), activation='relu'))\n",
        "model.add(MaxPooling2D(pool_size=(2, 2)))\n",
        "\n",
        "model.add(Conv2D(64, (3, 3), activation='relu'))\n",
        "model.add(MaxPooling2D(pool_size=(2, 2)))\n",
        "\n",
        "model.add(Conv2D(128, (3, 3), activation='relu'))\n",
        "model.add(MaxPooling2D(pool_size=(2, 2)))\n",
        "\n",
        "model.add(Flatten())\n",
        "model.add(Dense(128, activation='relu'))\n",
        "model.add(Dropout(0.5))\n",
        "model.add(Dense(4, activation='softmax'))  # 4 classes\n",
        "\n",
        "\n"
      ],
      "metadata": {
        "colab": {
          "base_uri": "https://localhost:8080/"
        },
        "id": "t1Sk4m3uh6fl",
        "outputId": "51696371-f342-451e-ce48-68fe904a0a58"
      },
      "execution_count": null,
      "outputs": [
        {
          "output_type": "stream",
          "name": "stdout",
          "text": [
            "Found 2870 images belonging to 4 classes.\n",
            "Found 394 images belonging to 4 classes.\n"
          ]
        }
      ]
    },
    {
      "cell_type": "code",
      "source": [
        "# Compile the model\n",
        "model.compile(optimizer=Adam(learning_rate=0.0001), loss='categorical_crossentropy', metrics=['accuracy'])\n",
        "\n",
        "# Train the model\n",
        "epochs = 50\n",
        "history = model.fit(train_generator, epochs=epochs, validation_data=test_generator)\n",
        "\n",
        "# Save the trained model\n",
        "model.save('multi_class_cnn.h5')"
      ],
      "metadata": {
        "colab": {
          "base_uri": "https://localhost:8080/"
        },
        "id": "35IVP88vs2_H",
        "outputId": "f110e594-cffd-46f1-df67-1abaf2bf5734"
      },
      "execution_count": null,
      "outputs": [
        {
          "output_type": "stream",
          "name": "stdout",
          "text": [
            "Epoch 1/50\n",
            "90/90 [==============================] - 29s 295ms/step - loss: 0.5979 - accuracy: 0.7568 - val_loss: 2.0382 - val_accuracy: 0.4772\n",
            "Epoch 2/50\n",
            "90/90 [==============================] - 27s 301ms/step - loss: 0.5546 - accuracy: 0.7686 - val_loss: 2.1994 - val_accuracy: 0.4569\n",
            "Epoch 3/50\n",
            "90/90 [==============================] - 27s 296ms/step - loss: 0.5407 - accuracy: 0.7829 - val_loss: 1.9577 - val_accuracy: 0.4822\n",
            "Epoch 4/50\n",
            "90/90 [==============================] - 27s 299ms/step - loss: 0.5405 - accuracy: 0.7794 - val_loss: 2.1144 - val_accuracy: 0.4772\n",
            "Epoch 5/50\n",
            "90/90 [==============================] - 27s 298ms/step - loss: 0.5083 - accuracy: 0.7958 - val_loss: 2.0338 - val_accuracy: 0.5406\n",
            "Epoch 6/50\n",
            "90/90 [==============================] - 27s 295ms/step - loss: 0.4771 - accuracy: 0.8087 - val_loss: 2.1283 - val_accuracy: 0.5000\n",
            "Epoch 7/50\n",
            "90/90 [==============================] - 27s 298ms/step - loss: 0.4678 - accuracy: 0.8139 - val_loss: 2.1947 - val_accuracy: 0.5381\n",
            "Epoch 8/50\n",
            "90/90 [==============================] - 27s 298ms/step - loss: 0.4681 - accuracy: 0.8178 - val_loss: 1.9979 - val_accuracy: 0.5482\n",
            "Epoch 9/50\n",
            "90/90 [==============================] - 27s 296ms/step - loss: 0.4593 - accuracy: 0.8174 - val_loss: 2.2719 - val_accuracy: 0.5203\n",
            "Epoch 10/50\n",
            "90/90 [==============================] - 27s 295ms/step - loss: 0.4331 - accuracy: 0.8334 - val_loss: 2.4440 - val_accuracy: 0.4721\n",
            "Epoch 11/50\n",
            "90/90 [==============================] - 25s 282ms/step - loss: 0.4297 - accuracy: 0.8296 - val_loss: 2.2403 - val_accuracy: 0.5406\n",
            "Epoch 12/50\n",
            "90/90 [==============================] - 26s 289ms/step - loss: 0.4165 - accuracy: 0.8307 - val_loss: 2.4321 - val_accuracy: 0.5178\n",
            "Epoch 13/50\n",
            "90/90 [==============================] - 26s 294ms/step - loss: 0.4073 - accuracy: 0.8460 - val_loss: 2.0277 - val_accuracy: 0.5736\n",
            "Epoch 14/50\n",
            "90/90 [==============================] - 30s 329ms/step - loss: 0.4135 - accuracy: 0.8282 - val_loss: 2.2033 - val_accuracy: 0.5736\n",
            "Epoch 15/50\n",
            "90/90 [==============================] - 25s 277ms/step - loss: 0.3943 - accuracy: 0.8404 - val_loss: 2.5090 - val_accuracy: 0.5660\n",
            "Epoch 16/50\n",
            "90/90 [==============================] - 26s 292ms/step - loss: 0.3712 - accuracy: 0.8561 - val_loss: 2.3653 - val_accuracy: 0.5406\n",
            "Epoch 17/50\n",
            "90/90 [==============================] - 27s 299ms/step - loss: 0.3668 - accuracy: 0.8544 - val_loss: 2.3016 - val_accuracy: 0.5508\n",
            "Epoch 18/50\n",
            "90/90 [==============================] - 26s 291ms/step - loss: 0.3611 - accuracy: 0.8606 - val_loss: 2.5293 - val_accuracy: 0.5888\n",
            "Epoch 19/50\n",
            "90/90 [==============================] - 26s 292ms/step - loss: 0.3669 - accuracy: 0.8613 - val_loss: 2.7711 - val_accuracy: 0.6066\n",
            "Epoch 20/50\n",
            "90/90 [==============================] - 26s 293ms/step - loss: 0.3575 - accuracy: 0.8578 - val_loss: 2.4607 - val_accuracy: 0.5914\n",
            "Epoch 21/50\n",
            "90/90 [==============================] - 25s 283ms/step - loss: 0.3250 - accuracy: 0.8711 - val_loss: 2.7436 - val_accuracy: 0.6041\n",
            "Epoch 22/50\n",
            "90/90 [==============================] - 25s 278ms/step - loss: 0.3166 - accuracy: 0.8760 - val_loss: 2.7185 - val_accuracy: 0.5558\n",
            "Epoch 23/50\n",
            "90/90 [==============================] - 25s 283ms/step - loss: 0.3237 - accuracy: 0.8784 - val_loss: 2.4778 - val_accuracy: 0.6117\n",
            "Epoch 24/50\n",
            "90/90 [==============================] - 26s 288ms/step - loss: 0.3080 - accuracy: 0.8728 - val_loss: 2.9469 - val_accuracy: 0.6041\n",
            "Epoch 25/50\n",
            "90/90 [==============================] - 26s 293ms/step - loss: 0.2990 - accuracy: 0.8843 - val_loss: 2.9151 - val_accuracy: 0.5482\n",
            "Epoch 26/50\n",
            "90/90 [==============================] - 25s 279ms/step - loss: 0.2903 - accuracy: 0.8875 - val_loss: 2.5067 - val_accuracy: 0.5888\n",
            "Epoch 27/50\n",
            "90/90 [==============================] - 26s 290ms/step - loss: 0.2758 - accuracy: 0.8965 - val_loss: 2.8161 - val_accuracy: 0.6320\n",
            "Epoch 28/50\n",
            "90/90 [==============================] - 25s 281ms/step - loss: 0.2896 - accuracy: 0.8826 - val_loss: 2.4016 - val_accuracy: 0.6244\n",
            "Epoch 29/50\n",
            "90/90 [==============================] - 26s 289ms/step - loss: 0.2619 - accuracy: 0.8937 - val_loss: 2.8860 - val_accuracy: 0.6447\n",
            "Epoch 30/50\n",
            "90/90 [==============================] - 27s 296ms/step - loss: 0.2910 - accuracy: 0.8861 - val_loss: 2.5801 - val_accuracy: 0.6523\n",
            "Epoch 31/50\n",
            "90/90 [==============================] - 26s 293ms/step - loss: 0.2757 - accuracy: 0.8892 - val_loss: 2.7895 - val_accuracy: 0.6142\n",
            "Epoch 32/50\n",
            "90/90 [==============================] - 25s 280ms/step - loss: 0.2698 - accuracy: 0.9003 - val_loss: 2.7076 - val_accuracy: 0.6574\n",
            "Epoch 33/50\n",
            "90/90 [==============================] - 26s 285ms/step - loss: 0.2522 - accuracy: 0.9038 - val_loss: 2.7713 - val_accuracy: 0.6472\n",
            "Epoch 34/50\n",
            "90/90 [==============================] - 25s 276ms/step - loss: 0.2489 - accuracy: 0.9014 - val_loss: 2.9715 - val_accuracy: 0.6371\n",
            "Epoch 35/50\n",
            "90/90 [==============================] - 30s 330ms/step - loss: 0.2432 - accuracy: 0.9038 - val_loss: 2.9994 - val_accuracy: 0.6294\n",
            "Epoch 36/50\n",
            "90/90 [==============================] - 27s 297ms/step - loss: 0.2412 - accuracy: 0.9077 - val_loss: 3.4124 - val_accuracy: 0.6168\n",
            "Epoch 37/50\n",
            "90/90 [==============================] - 26s 294ms/step - loss: 0.2433 - accuracy: 0.9087 - val_loss: 2.9537 - val_accuracy: 0.6320\n",
            "Epoch 38/50\n",
            "90/90 [==============================] - 26s 292ms/step - loss: 0.2271 - accuracy: 0.9153 - val_loss: 2.9445 - val_accuracy: 0.6421\n",
            "Epoch 39/50\n",
            "90/90 [==============================] - 25s 278ms/step - loss: 0.2368 - accuracy: 0.9049 - val_loss: 3.5054 - val_accuracy: 0.5990\n",
            "Epoch 40/50\n",
            "90/90 [==============================] - 26s 289ms/step - loss: 0.2280 - accuracy: 0.9174 - val_loss: 2.7584 - val_accuracy: 0.6574\n",
            "Epoch 41/50\n",
            "90/90 [==============================] - 26s 295ms/step - loss: 0.2160 - accuracy: 0.9174 - val_loss: 2.7762 - val_accuracy: 0.6701\n",
            "Epoch 42/50\n",
            "90/90 [==============================] - 26s 294ms/step - loss: 0.2307 - accuracy: 0.9129 - val_loss: 2.9629 - val_accuracy: 0.6929\n",
            "Epoch 43/50\n",
            "90/90 [==============================] - 27s 296ms/step - loss: 0.2123 - accuracy: 0.9202 - val_loss: 2.8537 - val_accuracy: 0.6421\n",
            "Epoch 44/50\n",
            "90/90 [==============================] - 26s 293ms/step - loss: 0.2024 - accuracy: 0.9188 - val_loss: 2.8873 - val_accuracy: 0.6980\n",
            "Epoch 45/50\n",
            "90/90 [==============================] - 26s 290ms/step - loss: 0.2034 - accuracy: 0.9254 - val_loss: 3.2648 - val_accuracy: 0.6777\n",
            "Epoch 46/50\n",
            "90/90 [==============================] - 27s 296ms/step - loss: 0.1889 - accuracy: 0.9289 - val_loss: 2.8053 - val_accuracy: 0.6929\n",
            "Epoch 47/50\n",
            "90/90 [==============================] - 26s 293ms/step - loss: 0.1905 - accuracy: 0.9282 - val_loss: 2.8167 - val_accuracy: 0.6929\n",
            "Epoch 48/50\n",
            "90/90 [==============================] - 26s 291ms/step - loss: 0.1811 - accuracy: 0.9314 - val_loss: 3.4751 - val_accuracy: 0.6624\n",
            "Epoch 49/50\n",
            "90/90 [==============================] - 25s 279ms/step - loss: 0.1896 - accuracy: 0.9286 - val_loss: 3.7747 - val_accuracy: 0.7107\n",
            "Epoch 50/50\n",
            "90/90 [==============================] - 26s 288ms/step - loss: 0.1920 - accuracy: 0.9303 - val_loss: 2.9135 - val_accuracy: 0.6650\n"
          ]
        }
      ]
    },
    {
      "cell_type": "code",
      "source": [
        "model.save('tumour.h5')"
      ],
      "metadata": {
        "id": "APkFdpTW6Wnl"
      },
      "execution_count": null,
      "outputs": []
    },
    {
      "cell_type": "code",
      "source": [
        "# Get the class labels from the train generator\n",
        "class_labels = list(train_generator.class_indices.keys())\n",
        "\n",
        "# Create a dictionary that maps class indices to class names\n",
        "class_dict = {i: label for i, label in enumerate(class_labels)}\n",
        "\n",
        "# Print the dictionary\n",
        "print(class_dict)\n"
      ],
      "metadata": {
        "colab": {
          "base_uri": "https://localhost:8080/"
        },
        "id": "GhDtO8is7Twd",
        "outputId": "e0dfe91b-36cf-4b6b-bc29-f6d6e8bb9f58"
      },
      "execution_count": null,
      "outputs": [
        {
          "output_type": "stream",
          "name": "stdout",
          "text": [
            "{0: 'glioma_tumor', 1: 'meningioma_tumor', 2: 'no_tumor', 3: 'pituitary_tumor'}\n"
          ]
        }
      ]
    }
  ]
}